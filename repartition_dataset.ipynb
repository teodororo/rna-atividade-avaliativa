{
 "cells": [
  {
   "attachments": {},
   "cell_type": "markdown",
   "metadata": {},
   "source": [
    "# Partition Dataset"
   ]
  },
  {
   "attachments": {},
   "cell_type": "markdown",
   "metadata": {},
   "source": [
    "A partição do dataset original estava em 2186 imagens para treino, 75 para validação e 75 para teste, resultando numa partição em um modelo 94/3/3. Para organização melhor dos dados, inicialmente os dados foram unidos para então serem novamente particionados, seguindo um Holdout de 70/10/20."
   ]
  },
  {
   "attachments": {},
   "cell_type": "markdown",
   "metadata": {},
   "source": [
    "Bibliotecas utilizadas por esse processo:"
   ]
  },
  {
   "cell_type": "code",
   "execution_count": null,
   "metadata": {},
   "outputs": [],
   "source": [
    "import os\n",
    "import shutil\n",
    "\n",
    "from random import choices"
   ]
  },
  {
   "cell_type": "code",
   "execution_count": null,
   "metadata": {},
   "outputs": [],
   "source": [
    "#Files paths\n",
    "path = \"./original_dataset/\"\n",
    "test = path + \"test/\"\n",
    "train = path + \"train/\"\n",
    "val = path + \"valid/\"\n",
    "\n",
    "destination_path = \"./dataset/\"\n",
    "\n",
    "partition_path = \"./dataset_partition/\""
   ]
  },
  {
   "attachments": {},
   "cell_type": "markdown",
   "metadata": {},
   "source": [
    "## Merging"
   ]
  },
  {
   "cell_type": "code",
   "execution_count": null,
   "metadata": {},
   "outputs": [],
   "source": [
    "def getDirs(path):\n",
    "    dirList = []\n",
    "    for directory in os.listdir(path):\n",
    "        if os.path.isdir(os.path.join(path,directory)):\n",
    "            dirList.append(directory)\n",
    "    return dirList\n",
    "\n",
    "def getFiles(path):\n",
    "    return os.listdir(path)\n",
    "\n",
    "def moveFiles(pathOrigin, pathDestiny):\n",
    "    folders = getDirs(pathOrigin);\n",
    "    for folder in folders:\n",
    "        imageClass = pathOrigin + folder\n",
    "        files = getFiles(imageClass)\n",
    "        for file in files:\n",
    "            shutil.move(imageClass + '/' + file, pathDestiny + folder)\n",
    "\n",
    "def createDirs(pathOrigin, pathDestiny):\n",
    "    folders = getDirs(pathOrigin)\n",
    "    for folder in folders:\n",
    "        os.mkdir(pathDestiny + folder)"
   ]
  },
  {
   "cell_type": "code",
   "execution_count": null,
   "metadata": {},
   "outputs": [],
   "source": [
    "#Criação dos diretórios antes de mover os arquivos\n",
    "createDirs(test, destination_path)"
   ]
  },
  {
   "cell_type": "code",
   "execution_count": null,
   "metadata": {},
   "outputs": [],
   "source": [
    "#Movendo os arquivos\n",
    "moveFiles(test, destination_path)\n",
    "moveFiles(train, destination_path)\n",
    "moveFiles(val, destination_path)"
   ]
  },
  {
   "attachments": {},
   "cell_type": "markdown",
   "metadata": {},
   "source": [
    "## Re-Partition"
   ]
  },
  {
   "cell_type": "code",
   "execution_count": null,
   "metadata": {},
   "outputs": [],
   "source": [
    "def copyTo(img_path, img_name, char, to):\n",
    "    to_path = os.path.join(partition_path, to)\n",
    "    if not os.path.exists(to_path):\n",
    "        os.mkdir(to_path)\n",
    "        \n",
    "    to_path = os.path.join(to_path, char)\n",
    "    if not os.path.exists(to_path):\n",
    "        os.mkdir(to_path)\n",
    "        \n",
    "    to_path = os.path.join(to_path, img_name)\n",
    "    if not os.path.exists(to_path):\n",
    "        shutil.copyfile(img_path, to_path)"
   ]
  },
  {
   "cell_type": "code",
   "execution_count": null,
   "metadata": {},
   "outputs": [],
   "source": [
    "for file in os.listdir(destination_path):\n",
    "        filepath = os.path.join(destination_path, file)\n",
    "        if(filepath == \"\\\\dataset\\\\desktop.init\"):\n",
    "            next\n",
    "        for img in os.listdir(filepath):\n",
    "            rd = choices(['train', 'validation', 'test'], [.7, .1, .2])\n",
    "            copyTo(os.path.join(filepath, img), img, file, rd[0])"
   ]
  }
 ],
 "metadata": {
  "kernelspec": {
   "display_name": "Python 3",
   "language": "python",
   "name": "python3"
  },
  "language_info": {
   "codemirror_mode": {
    "name": "ipython",
    "version": 3
   },
   "file_extension": ".py",
   "mimetype": "text/x-python",
   "name": "python",
   "nbconvert_exporter": "python",
   "pygments_lexer": "ipython3",
   "version": "3.11.2"
  },
  "orig_nbformat": 4
 },
 "nbformat": 4,
 "nbformat_minor": 2
}
